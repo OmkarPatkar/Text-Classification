{
  "nbformat": 4,
  "nbformat_minor": 0,
  "metadata": {
    "colab": {
      "name": "Text Classification.ipynb",
      "provenance": [],
      "mount_file_id": "1cVlFTqKlJMVPooNjcwb5o7GXfTzMUXLL",
      "authorship_tag": "ABX9TyO3BuqYl38fSNZGUsDTGkI7",
      "include_colab_link": true
    },
    "kernelspec": {
      "name": "python3",
      "display_name": "Python 3"
    }
  },
  "cells": [
    {
      "cell_type": "markdown",
      "metadata": {
        "id": "view-in-github",
        "colab_type": "text"
      },
      "source": [
        "<a href=\"https://colab.research.google.com/github/OmkarPatkar/Text-Classification/blob/master/Text_Classification.ipynb\" target=\"_parent\"><img src=\"https://colab.research.google.com/assets/colab-badge.svg\" alt=\"Open In Colab\"/></a>"
      ]
    },
    {
      "cell_type": "markdown",
      "metadata": {
        "id": "KJ7DzpvkFYb9",
        "colab_type": "text"
      },
      "source": [
        "\n",
        "# ** Build a Basic ML Model for Text Classification **"
      ]
    },
    {
      "cell_type": "markdown",
      "metadata": {
        "id": "qM6Dg7W2Nqrr",
        "colab_type": "text"
      },
      "source": [
        "* Here we will build a machine learning model for text classification.\n",
        "\n",
        "* We will build a machine learning model to classify whether a particular tweet is hate speech or not.\n"
      ]
    },
    {
      "cell_type": "code",
      "metadata": {
        "id": "qdh-UszIDWoK",
        "colab_type": "code",
        "colab": {
          "base_uri": "https://localhost:8080/",
          "height": 206
        },
        "outputId": "275e63c4-1614-488b-faf1-2cef4cf29260"
      },
      "source": [
        "#import the library\n",
        "#Load the dataset\n",
        "import pandas as pd\n",
        "\n",
        "dataset = pd.read_csv('drive/My Drive/Colab Notebooks/Basic ML Model for Text Classification/final_dataset_basicmlmodel.csv')\n",
        "dataset.head()"
      ],
      "execution_count": 1,
      "outputs": [
        {
          "output_type": "execute_result",
          "data": {
            "text/html": [
              "<div>\n",
              "<style scoped>\n",
              "    .dataframe tbody tr th:only-of-type {\n",
              "        vertical-align: middle;\n",
              "    }\n",
              "\n",
              "    .dataframe tbody tr th {\n",
              "        vertical-align: top;\n",
              "    }\n",
              "\n",
              "    .dataframe thead th {\n",
              "        text-align: right;\n",
              "    }\n",
              "</style>\n",
              "<table border=\"1\" class=\"dataframe\">\n",
              "  <thead>\n",
              "    <tr style=\"text-align: right;\">\n",
              "      <th></th>\n",
              "      <th>id</th>\n",
              "      <th>label</th>\n",
              "      <th>tweet</th>\n",
              "    </tr>\n",
              "  </thead>\n",
              "  <tbody>\n",
              "    <tr>\n",
              "      <th>0</th>\n",
              "      <td>1</td>\n",
              "      <td>0</td>\n",
              "      <td>@user when a father is dysfunctional and is s...</td>\n",
              "    </tr>\n",
              "    <tr>\n",
              "      <th>1</th>\n",
              "      <td>2</td>\n",
              "      <td>0</td>\n",
              "      <td>@user @user thanks for #lyft credit i can't us...</td>\n",
              "    </tr>\n",
              "    <tr>\n",
              "      <th>2</th>\n",
              "      <td>3</td>\n",
              "      <td>0</td>\n",
              "      <td>bihday your majesty</td>\n",
              "    </tr>\n",
              "    <tr>\n",
              "      <th>3</th>\n",
              "      <td>4</td>\n",
              "      <td>0</td>\n",
              "      <td>#model   i love u take with u all the time in ...</td>\n",
              "    </tr>\n",
              "    <tr>\n",
              "      <th>4</th>\n",
              "      <td>5</td>\n",
              "      <td>0</td>\n",
              "      <td>factsguide: society now    #motivation</td>\n",
              "    </tr>\n",
              "  </tbody>\n",
              "</table>\n",
              "</div>"
            ],
            "text/plain": [
              "   id  label                                              tweet\n",
              "0   1      0   @user when a father is dysfunctional and is s...\n",
              "1   2      0  @user @user thanks for #lyft credit i can't us...\n",
              "2   3      0                                bihday your majesty\n",
              "3   4      0  #model   i love u take with u all the time in ...\n",
              "4   5      0             factsguide: society now    #motivation"
            ]
          },
          "metadata": {
            "tags": []
          },
          "execution_count": 1
        }
      ]
    },
    {
      "cell_type": "markdown",
      "metadata": {
        "id": "k72rBfhEM5_c",
        "colab_type": "text"
      },
      "source": [
        "\n",
        "* label is the column that contains the target variable or the value that has to be predicted. 1 means it's a hate speech and 0 means it is not.\n",
        "    \n",
        "* tweet is the column that contains the text of the tweet. This is the main data on which NLP techniques will be applied.\n"
      ]
    },
    {
      "cell_type": "code",
      "metadata": {
        "id": "aiQMKfv6MgKN",
        "colab_type": "code",
        "colab": {
          "base_uri": "https://localhost:8080/",
          "height": 104
        },
        "outputId": "558d0297-642f-4f4d-bded-e632f6c7eaaf"
      },
      "source": [
        "#Let's check out some of the tweets.\n",
        "for index, tweet in enumerate(dataset[\"tweet\"][10:15]):\n",
        "  print(index+1, \".\", tweet)"
      ],
      "execution_count": 2,
      "outputs": [
        {
          "output_type": "stream",
          "text": [
            "1 .  â #ireland consumer price index (mom) climbed from previous 0.2% to 0.5% in may   #blog #silver #gold #forex\n",
            "2 . we are so selfish. #orlando #standwithorlando #pulseshooting #orlandoshooting #biggerproblems #selfish #heabreaking   #values #love #\n",
            "3 . i get to see my daddy today!!   #80days #gettingfed\n",
            "4 . ouch...junior is angryð#got7 #junior #yugyoem   #omg \n",
            "5 . i am thankful for having a paner. #thankful #positive     \n"
          ],
          "name": "stdout"
        }
      ]
    },
    {
      "cell_type": "code",
      "metadata": {
        "id": "0QADZgSlSM42",
        "colab_type": "code",
        "colab": {}
      },
      "source": [
        "#Let's clean up the noise in our dataset.\n",
        "import re\n",
        "\n",
        "#Clean text from noise\n",
        "def clean_text(text):\n",
        "  #Filter to allow only alphabets\n",
        "  text = re.sub(r'[^a-zA-Z\\']', ' ', text )\n",
        "\n",
        "  #Remove Unicode characters\n",
        "  text = re.sub(r'[^\\x00-\\x7F]+', '', text)\n",
        "    \n",
        "  #Convert to lowercase to maintain consistency\n",
        "  text = text.lower()\n",
        "       \n",
        "  return text"
      ],
      "execution_count": 0,
      "outputs": []
    },
    {
      "cell_type": "code",
      "metadata": {
        "id": "d0SqX39-YZTj",
        "colab_type": "code",
        "colab": {}
      },
      "source": [
        "dataset['clean_text'] = dataset.tweet.apply(lambda x : clean_text(x))"
      ],
      "execution_count": 0,
      "outputs": []
    },
    {
      "cell_type": "markdown",
      "metadata": {
        "id": "TkkcNXzDbaGu",
        "colab_type": "text"
      },
      "source": [
        "we are going to do Feature Engieering.\n",
        "\n",
        "Feature engineering is the science (and art) of extracting more information from existing data."
      ]
    },
    {
      "cell_type": "markdown",
      "metadata": {
        "id": "A0vi8NADcOxW",
        "colab_type": "text"
      },
      "source": [
        "The machine learning model does not understand text directly, so we create numerical features that reperesant the underlying text."
      ]
    },
    {
      "cell_type": "code",
      "metadata": {
        "id": "ug5l2MdzZCYl",
        "colab_type": "code",
        "colab": {}
      },
      "source": [
        "#Exhaustive list of stopwords in the english language.\n",
        "#We want to focus less on these so at some point will have to filter\n",
        "\n",
        "STOP_WORDS = ['a', 'about', 'above', 'after', 'again', 'against', 'all', 'also', 'am', 'an', 'and',\n",
        "              'any', 'are', \"aren't\", 'as', 'at', 'be', 'because', 'been', 'before', 'being', 'below',\n",
        "              'between', 'both', 'but', 'by', 'can', \"can't\", 'cannot', 'com', 'could', \"couldn't\", 'did',\n",
        "              \"didn't\", 'do', 'does', \"doesn't\", 'doing', \"don't\", 'down', 'during', 'each', 'else', 'ever',\n",
        "              'few', 'for', 'from', 'further', 'get', 'had', \"hadn't\", 'has', \"hasn't\", 'have', \"haven't\", 'having',\n",
        "              'he', \"he'd\", \"he'll\", \"he's\", 'her', 'here', \"here's\", 'hers', 'herself', 'him', 'himself', 'his', 'how',\n",
        "              \"how's\", 'however', 'http', 'i', \"i'd\", \"i'll\", \"i'm\", \"i've\", 'if', 'in', 'into', 'is', \"isn't\", 'it',\n",
        "              \"it's\", 'its', 'itself', 'just', 'k', \"let's\", 'like', 'me', 'more', 'most', \"mustn't\", 'my', 'myself',\n",
        "              'no', 'nor', 'not', 'of', 'off', 'on', 'once', 'only', 'or', 'other', 'otherwise', 'ought', 'our', 'ours',\n",
        "              'ourselves', 'out', 'over', 'own', 'r', 'same', 'shall', \"shan't\", 'she', \"she'd\", \"she'll\", \"she's\",\n",
        "              'should', \"shouldn't\", 'since', 'so', 'some', 'such', 'than', 'that', \"that's\", 'the', 'their', 'theirs',\n",
        "              'them', 'themselves', 'then', 'there', \"there's\", 'these', 'they', \"they'd\", \"they'll\", \"they're\",\n",
        "              \"they've\", 'this', 'those', 'through', 'to', 'too', 'under', 'until', 'up', 'very', 'was', \"wasn't\",\n",
        "              'we', \"we'd\", \"we'll\", \"we're\", \"we've\", 'were', \"weren't\", 'what', \"what's\", 'when', \"when's\", 'where',\n",
        "              \"where's\", 'which', 'while', 'who', \"who's\", 'whom', 'why', \"why's\", 'with', \"won't\", 'would', \"wouldn't\",\n",
        "              'www', 'you', \"you'd\", \"you'll\", \"you're\", \"you've\", 'your', 'yours', 'yourself', 'yourselves']\n",
        "\n",
        "#Generate word frequency\n",
        "def gen_freq(text):\n",
        "  #Will store the list of words\n",
        "  word_list = []\n",
        "\n",
        "  #Loop over all the tweets and extract words into word_list\n",
        "  for tw_word in text.split():\n",
        "    word_list.extend(tw_word)\n",
        "\n",
        "  #Create word frequencies using word_list\n",
        "  word_freq = pd.Series(word_list).value_counts()\n",
        "\n",
        "  #Drop the stopwords during the frequency calculation\n",
        "  word_freq = word_freq.drop(STOP_WORDS, errors = 'ignore')\n",
        "\n",
        "  return word_freq\n",
        "\n",
        "#Check whether a negation term is present in the text\n",
        "def any_neg(words):\n",
        "  for word in words:\n",
        "    if word in['n', 'no', 'non', 'not'] or re.search(r\"\\wn't\", word):\n",
        "      return 1\n",
        "    else:\n",
        "      return 0\n",
        "\n",
        "#Check whether one of the 100 rare words is present in the text\n",
        "def any_rare(words, rare_100):\n",
        "  for word in words:\n",
        "    if word in rare_100:\n",
        "      return 1\n",
        "    else:\n",
        "      return 0\n",
        "\n",
        "#Check whether prompt words are present\n",
        "def is_question(words):\n",
        "  for word in words:\n",
        "    if word in ['when', 'what', 'how', 'why', 'who']:\n",
        "      return 1\n",
        "    else:\n",
        "      return 0"
      ],
      "execution_count": 0,
      "outputs": []
    },
    {
      "cell_type": "code",
      "metadata": {
        "id": "Sj94J0ksjCp6",
        "colab_type": "code",
        "colab": {}
      },
      "source": [
        "word_freq = gen_freq(dataset.clean_text.str)\n",
        "\n",
        "#100 most rare words in the dataset\n",
        "rare_100 = word_freq[-100:]\n",
        "\n",
        "#Number of words in a tweet\n",
        "dataset['word_count'] = dataset.clean_text.str.split().apply(lambda x: len(x))\n",
        "\n",
        "#Negation present or not\n",
        "dataset['any_neg'] = dataset.clean_text.str.split().apply(lambda x: any_neg(x))\n",
        "\n",
        "#Prompt present or not\n",
        "dataset['is_question'] = dataset.clean_text.str.split().apply(lambda x: is_question(x))\n",
        "\n",
        "#Any of the most 100 rare words present or not\n",
        "dataset['any_rare'] = dataset.clean_text.str.split().apply(lambda x: any_rare(x, rare_100))\n",
        "\n",
        "#Character count of the tweet\n",
        "dataset['char_count'] = dataset.clean_text.apply(lambda x: len(x))"
      ],
      "execution_count": 0,
      "outputs": []
    },
    {
      "cell_type": "code",
      "metadata": {
        "id": "_9f3g32dmejd",
        "colab_type": "code",
        "colab": {
          "base_uri": "https://localhost:8080/",
          "height": 208
        },
        "outputId": "ca32103c-ee0e-46d2-cd03-c3aed1971b43"
      },
      "source": [
        "#Top 10 common words are\n",
        "gen_freq(dataset.clean_text.str)[:10]"
      ],
      "execution_count": 7,
      "outputs": [
        {
          "output_type": "execute_result",
          "data": {
            "text/plain": [
              "user      3351\n",
              "amp        439\n",
              "love       320\n",
              "day        254\n",
              "trump      214\n",
              "happy      207\n",
              "will       191\n",
              "people     186\n",
              "new        171\n",
              "u          158\n",
              "dtype: int64"
            ]
          },
          "metadata": {
            "tags": []
          },
          "execution_count": 7
        }
      ]
    },
    {
      "cell_type": "code",
      "metadata": {
        "id": "WwsdC7SAnu41",
        "colab_type": "code",
        "colab": {
          "base_uri": "https://localhost:8080/",
          "height": 258
        },
        "outputId": "70730482-3dea-4d76-9af4-b37476a99820"
      },
      "source": [
        "dataset.head()"
      ],
      "execution_count": 8,
      "outputs": [
        {
          "output_type": "execute_result",
          "data": {
            "text/html": [
              "<div>\n",
              "<style scoped>\n",
              "    .dataframe tbody tr th:only-of-type {\n",
              "        vertical-align: middle;\n",
              "    }\n",
              "\n",
              "    .dataframe tbody tr th {\n",
              "        vertical-align: top;\n",
              "    }\n",
              "\n",
              "    .dataframe thead th {\n",
              "        text-align: right;\n",
              "    }\n",
              "</style>\n",
              "<table border=\"1\" class=\"dataframe\">\n",
              "  <thead>\n",
              "    <tr style=\"text-align: right;\">\n",
              "      <th></th>\n",
              "      <th>id</th>\n",
              "      <th>label</th>\n",
              "      <th>tweet</th>\n",
              "      <th>clean_text</th>\n",
              "      <th>word_count</th>\n",
              "      <th>any_neg</th>\n",
              "      <th>is_question</th>\n",
              "      <th>any_rare</th>\n",
              "      <th>char_count</th>\n",
              "    </tr>\n",
              "  </thead>\n",
              "  <tbody>\n",
              "    <tr>\n",
              "      <th>0</th>\n",
              "      <td>1</td>\n",
              "      <td>0</td>\n",
              "      <td>@user when a father is dysfunctional and is s...</td>\n",
              "      <td>user when a father is dysfunctional and is s...</td>\n",
              "      <td>18</td>\n",
              "      <td>0</td>\n",
              "      <td>0</td>\n",
              "      <td>0</td>\n",
              "      <td>102</td>\n",
              "    </tr>\n",
              "    <tr>\n",
              "      <th>1</th>\n",
              "      <td>2</td>\n",
              "      <td>0</td>\n",
              "      <td>@user @user thanks for #lyft credit i can't us...</td>\n",
              "      <td>user  user thanks for  lyft credit i can't us...</td>\n",
              "      <td>19</td>\n",
              "      <td>0</td>\n",
              "      <td>0</td>\n",
              "      <td>0</td>\n",
              "      <td>122</td>\n",
              "    </tr>\n",
              "    <tr>\n",
              "      <th>2</th>\n",
              "      <td>3</td>\n",
              "      <td>0</td>\n",
              "      <td>bihday your majesty</td>\n",
              "      <td>bihday your majesty</td>\n",
              "      <td>3</td>\n",
              "      <td>0</td>\n",
              "      <td>0</td>\n",
              "      <td>0</td>\n",
              "      <td>21</td>\n",
              "    </tr>\n",
              "    <tr>\n",
              "      <th>3</th>\n",
              "      <td>4</td>\n",
              "      <td>0</td>\n",
              "      <td>#model   i love u take with u all the time in ...</td>\n",
              "      <td>model   i love u take with u all the time in ...</td>\n",
              "      <td>12</td>\n",
              "      <td>0</td>\n",
              "      <td>0</td>\n",
              "      <td>0</td>\n",
              "      <td>86</td>\n",
              "    </tr>\n",
              "    <tr>\n",
              "      <th>4</th>\n",
              "      <td>5</td>\n",
              "      <td>0</td>\n",
              "      <td>factsguide: society now    #motivation</td>\n",
              "      <td>factsguide  society now     motivation</td>\n",
              "      <td>4</td>\n",
              "      <td>0</td>\n",
              "      <td>0</td>\n",
              "      <td>0</td>\n",
              "      <td>39</td>\n",
              "    </tr>\n",
              "  </tbody>\n",
              "</table>\n",
              "</div>"
            ],
            "text/plain": [
              "   id  label  ... any_rare char_count\n",
              "0   1      0  ...        0        102\n",
              "1   2      0  ...        0        122\n",
              "2   3      0  ...        0         21\n",
              "3   4      0  ...        0         86\n",
              "4   5      0  ...        0         39\n",
              "\n",
              "[5 rows x 9 columns]"
            ]
          },
          "metadata": {
            "tags": []
          },
          "execution_count": 8
        }
      ]
    },
    {
      "cell_type": "markdown",
      "metadata": {
        "id": "5qUdoeIEoE1U",
        "colab_type": "text"
      },
      "source": [
        "**Splitting the dataset into Train-Test split**"
      ]
    },
    {
      "cell_type": "markdown",
      "metadata": {
        "id": "Wdl-bIKzoPcy",
        "colab_type": "text"
      },
      "source": [
        "Let's split the dataset into train and test sets.\n",
        "\n",
        "Train set is used to train the model and test set is used to make predictions."
      ]
    },
    {
      "cell_type": "code",
      "metadata": {
        "id": "43wpiKIhnzpm",
        "colab_type": "code",
        "colab": {}
      },
      "source": [
        "from sklearn.model_selection import train_test_split\n",
        "\n",
        "x = dataset[['word_count', 'any_neg', 'any_rare', 'char_count', 'is_question']]\n",
        "y = dataset.label\n",
        "\n",
        "x_train, x_test, y_train, y_test = train_test_split(x, y, test_size=0.1, random_state = 70)"
      ],
      "execution_count": 0,
      "outputs": []
    },
    {
      "cell_type": "markdown",
      "metadata": {
        "id": "6kt9njD1qNyg",
        "colab_type": "text"
      },
      "source": [
        "**Train an ML model for Text Classification**"
      ]
    },
    {
      "cell_type": "markdown",
      "metadata": {
        "id": "mnupLAWDqUdj",
        "colab_type": "text"
      },
      "source": [
        "So the dataset is ready, we can use it to train the machine learning model."
      ]
    },
    {
      "cell_type": "markdown",
      "metadata": {
        "id": "SBxB-E5ssbZj",
        "colab_type": "text"
      },
      "source": [
        "We will be using a Naive Bayes classifier from sklearn which is a prominent python library used for machine learning."
      ]
    },
    {
      "cell_type": "code",
      "metadata": {
        "id": "mopHeFnRp8pJ",
        "colab_type": "code",
        "colab": {}
      },
      "source": [
        "from sklearn.naive_bayes import GaussianNB\n",
        "\n",
        "#Initialize GaussianNB classifier\n",
        "model = GaussianNB()\n",
        "\n",
        "#Fit the model on the train dataset\n",
        "model = model.fit(x_train, y_train)\n",
        "\n",
        "#Make predictions on the test dataset\n",
        "pred = model.predict(x_test)"
      ],
      "execution_count": 0,
      "outputs": []
    },
    {
      "cell_type": "markdown",
      "metadata": {
        "id": "tqK7EcQNtQrv",
        "colab_type": "text"
      },
      "source": [
        "**Evaluate the ML model**"
      ]
    },
    {
      "cell_type": "code",
      "metadata": {
        "id": "LGHEDtGstO5J",
        "colab_type": "code",
        "colab": {
          "base_uri": "https://localhost:8080/",
          "height": 34
        },
        "outputId": "7ffe6c7f-5fe8-4f03-f2e2-6e8705405bb9"
      },
      "source": [
        "from sklearn.metrics import accuracy_score\n",
        "\n",
        "print(\"Accuracy : \", accuracy_score(y_test,pred)*100, \"%\")"
      ],
      "execution_count": 23,
      "outputs": [
        {
          "output_type": "stream",
          "text": [
            "Accuracy :  43.80952380952381 %\n"
          ],
          "name": "stdout"
        }
      ]
    },
    {
      "cell_type": "code",
      "metadata": {
        "id": "K6H_SYfCukpz",
        "colab_type": "code",
        "colab": {}
      },
      "source": [
        ""
      ],
      "execution_count": 0,
      "outputs": []
    }
  ]
}